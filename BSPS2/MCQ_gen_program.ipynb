{
 "cells": [
  {
   "cell_type": "markdown",
   "id": "a6422110-646e-494f-a188-0b255b059def",
   "metadata": {},
   "source": [
    "# MCQ generation program"
   ]
  },
  {
   "cell_type": "markdown",
   "id": "cea9708f-e1f2-4b40-8553-aaa8c586a48f",
   "metadata": {},
   "source": [
    "## Imports"
   ]
  },
  {
   "cell_type": "code",
   "execution_count": 3,
   "id": "cabc176d-f04c-484b-99ce-f67e451de232",
   "metadata": {},
   "outputs": [],
   "source": [
    "from python.questionType import *\n",
    "from python.quizMakerManager import *\n",
    "from python.quizMakerInteraction import *\n",
    "from python.quizGeneration import *\n",
    "from python.quizTaker import *\n",
    "from python.quizEditor  import *"
   ]
  },
  {
   "cell_type": "markdown",
   "id": "4d4acbfa-02d9-41d8-a056-ba90c0c56a9c",
   "metadata": {},
   "source": [
    "## Quiz Specification"
   ]
  },
  {
   "cell_type": "code",
   "execution_count": 2,
   "id": "188ea206-8cfe-4033-bb2c-c2a153c8e1a3",
   "metadata": {},
   "outputs": [
    {
     "data": {
      "application/vnd.jupyter.widget-view+json": {
       "model_id": "049312feff7d48c8bfaa88eb26384a1e",
       "version_major": 2,
       "version_minor": 0
      },
      "text/plain": [
       "HBox(children=(VBox(children=(Label(value='Question Specification'), Textarea(value='', description='Topic:', …"
      ]
     },
     "metadata": {},
     "output_type": "display_data"
    }
   ],
   "source": [
    "quizManager = QuizManager()\n",
    "interactWithQuizManager(quizManager)"
   ]
  },
  {
   "cell_type": "markdown",
   "id": "01b8c1b6-6e37-405a-9139-fc03becc9e20",
   "metadata": {},
   "source": [
    "## Quiz Generation"
   ]
  },
  {
   "cell_type": "code",
   "execution_count": null,
   "id": "df0046c3-17f9-44b7-a43f-adebf953fc49",
   "metadata": {},
   "outputs": [],
   "source": [
    "fileNameToWrite=\"quiz_file.json\"\n",
    "promptBuild = promptBuilder(quizManager)\n",
    "model = \"gpt-3.5-turbo-1106\" # \"gpt-4o\" or \"gpt-3.5-turbo-1106\"\n",
    "generateQuiz(promptBuild, fileNameToWrite, model)\n",
    "print(\"done\")"
   ]
  },
  {
   "cell_type": "markdown",
   "id": "0681b54d-2906-4be3-aee2-3b1e38457541",
   "metadata": {},
   "source": [
    "## Quiz Editing"
   ]
  },
  {
   "cell_type": "code",
   "execution_count": null,
   "id": "94834254-8165-474b-9feb-8cde8c5f92b0",
   "metadata": {},
   "outputs": [],
   "source": [
    "quizData = loadQuiz(\"quiz_file.json.json\") \n",
    "editQuiz(quizData) "
   ]
  },
  {
   "cell_type": "markdown",
   "id": "160b4e77-6d05-402e-b96d-d7a407ec7c5a",
   "metadata": {},
   "source": [
    "## Quiz Taking"
   ]
  },
  {
   "cell_type": "code",
   "execution_count": null,
   "id": "090e05ca-c16c-4cfa-8369-df5e735104e8",
   "metadata": {},
   "outputs": [],
   "source": [
    "fileName =\"quiz_file.json\"\n",
    "quizData = loadQuiz(fileName)\n",
    "displayQuiz(quizData)"
   ]
  }
 ],
 "metadata": {
  "kernelspec": {
   "display_name": "Python 3 (ipykernel)",
   "language": "python",
   "name": "python3"
  },
  "language_info": {
   "codemirror_mode": {
    "name": "ipython",
    "version": 3
   },
   "file_extension": ".py",
   "mimetype": "text/x-python",
   "name": "python",
   "nbconvert_exporter": "python",
   "pygments_lexer": "ipython3",
   "version": "3.12.2"
  }
 },
 "nbformat": 4,
 "nbformat_minor": 5
}
